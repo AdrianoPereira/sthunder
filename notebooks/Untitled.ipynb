{
 "cells": [
  {
   "cell_type": "code",
   "execution_count": 21,
   "id": "8ed803fe",
   "metadata": {},
   "outputs": [],
   "source": [
    "import sys; sys.path.insert(0, \"/home/adriano/sthunder\")\n",
    "from sqlalchemy import create_engine, select, func\n",
    "from sqlalchemy.orm import sessionmaker\n",
    "from sqlalchemy.ext.declarative import declarative_base\n",
    "import os\n",
    "import numpy as np\n",
    "import pandas as pd\n",
    "from sthunder.database import db_schema as dbs"
   ]
  },
  {
   "cell_type": "code",
   "execution_count": 2,
   "id": "3a7a4335",
   "metadata": {},
   "outputs": [],
   "source": [
    "class Database:\n",
    "    def __init__(self, **kwargs):\n",
    "        self._base = declarative_base()\n",
    "        self._user = kwargs.get('username', os.environ['USER_POSTGRES'])\n",
    "        self._pass = kwargs.get('password', os.environ['PASS_POSTGRES'])\n",
    "        self._port = kwargs.get('port', '5432')\n",
    "        self._host = kwargs.get('host', '127.0.0.1')\n",
    "        self._name = kwargs.get('database', 'sthunder')\n",
    "        self._uri = f'postgresql://{self._user}:{self._pass}@{self._host}/' \\\n",
    "                    f'{self._name}'\n",
    "        self.session = sessionmaker(bind=create_engine(self._uri, echo=False))()"
   ]
  },
  {
   "cell_type": "code",
   "execution_count": 12,
   "id": "b07d860a",
   "metadata": {},
   "outputs": [],
   "source": [
    "db = Database()"
   ]
  },
  {
   "cell_type": "code",
   "execution_count": null,
   "id": "fc20f657",
   "metadata": {},
   "outputs": [
    {
     "name": "stdout",
     "output_type": "stream",
     "text": [
      "2021-09-05 23:18:05,949 INFO sqlalchemy.engine.base.Engine SELECT flash_spatio_temporal.id AS flash_spatio_temporal_id, state.name AS state_name, flash_spatio_temporal.total AS flash_spatio_temporal_total, ST_AsText(flash_coordinate.geom) AS \"ST_AsText_1\", flash_datetime.datetime AS flash_datetime_datetime \n",
      "FROM flash_spatio_temporal JOIN flash_coordinate ON flash_spatio_temporal.coords = flash_coordinate.id JOIN state ON ST_Contains(state.geom, flash_coordinate.geom) JOIN flash_datetime ON flash_spatio_temporal.time = flash_datetime.id\n",
      "2021-09-05 23:18:05,950 INFO sqlalchemy.engine.base.Engine {}\n"
     ]
    }
   ],
   "source": [
    "q = db.session.query(\n",
    "    dbs.FlashSpatioTemporal.id, \n",
    "    dbs.State.name,\n",
    "    dbs.FlashSpatioTemporal.total,\n",
    "    dbs.FlashCoordinate.geom.st_astext(), \n",
    "    dbs.FlashDatetime.datetime\n",
    ").join(\n",
    "    dbs.FlashCoordinate, dbs.FlashSpatioTemporal.coords == dbs.FlashCoordinate.id, \n",
    ").join(\n",
    "    dbs.State, func.st_contains(dbs.State.geom, dbs.FlashCoordinate.geom)\n",
    ").join(\n",
    "    dbs.FlashDatetime, dbs.FlashSpatioTemporal.time == dbs.FlashDatetime.id\n",
    ").all()"
   ]
  },
  {
   "cell_type": "code",
   "execution_count": 24,
   "id": "d8ee0263",
   "metadata": {},
   "outputs": [
    {
     "data": {
      "text/plain": [
       "(32965449, 'Amazonas', 'POINT(-61 -5.5)', datetime.datetime(2020, 1, 1, 4, 0))"
      ]
     },
     "execution_count": 24,
     "metadata": {},
     "output_type": "execute_result"
    }
   ],
   "source": [
    "q[0]"
   ]
  },
  {
   "cell_type": "code",
   "execution_count": 25,
   "id": "e7c3af5c",
   "metadata": {},
   "outputs": [
    {
     "data": {
      "text/html": [
       "<div>\n",
       "<style scoped>\n",
       "    .dataframe tbody tr th:only-of-type {\n",
       "        vertical-align: middle;\n",
       "    }\n",
       "\n",
       "    .dataframe tbody tr th {\n",
       "        vertical-align: top;\n",
       "    }\n",
       "\n",
       "    .dataframe thead th {\n",
       "        text-align: right;\n",
       "    }\n",
       "</style>\n",
       "<table border=\"1\" class=\"dataframe\">\n",
       "  <thead>\n",
       "    <tr style=\"text-align: right;\">\n",
       "      <th></th>\n",
       "      <th>state</th>\n",
       "      <th>datetime</th>\n",
       "    </tr>\n",
       "  </thead>\n",
       "  <tbody>\n",
       "    <tr>\n",
       "      <th>0</th>\n",
       "      <td>Amazonas</td>\n",
       "      <td>2020-01-01 04:00:00</td>\n",
       "    </tr>\n",
       "    <tr>\n",
       "      <th>1</th>\n",
       "      <td>Amazonas</td>\n",
       "      <td>2020-01-01 04:00:00</td>\n",
       "    </tr>\n",
       "    <tr>\n",
       "      <th>2</th>\n",
       "      <td>Mato Grosso do Sul</td>\n",
       "      <td>2020-01-01 06:00:00</td>\n",
       "    </tr>\n",
       "    <tr>\n",
       "      <th>3</th>\n",
       "      <td>Pernambuco</td>\n",
       "      <td>2020-01-01 07:00:00</td>\n",
       "    </tr>\n",
       "    <tr>\n",
       "      <th>4</th>\n",
       "      <td>Rio Grande do Sul</td>\n",
       "      <td>2020-01-01 09:00:00</td>\n",
       "    </tr>\n",
       "  </tbody>\n",
       "</table>\n",
       "</div>"
      ],
      "text/plain": [
       "                state            datetime\n",
       "0            Amazonas 2020-01-01 04:00:00\n",
       "1            Amazonas 2020-01-01 04:00:00\n",
       "2  Mato Grosso do Sul 2020-01-01 06:00:00\n",
       "3          Pernambuco 2020-01-01 07:00:00\n",
       "4   Rio Grande do Sul 2020-01-01 09:00:00"
      ]
     },
     "execution_count": 25,
     "metadata": {},
     "output_type": "execute_result"
    }
   ],
   "source": [
    "df = {'state': [], 'datetime': []}\n",
    "\n",
    "for row in q:\n",
    "    df['state'].append(row[1])\n",
    "    df['datetime'].append(row[3])\n",
    "\n",
    "df = pd.DataFrame(df)\n",
    "df.head()"
   ]
  },
  {
   "cell_type": "code",
   "execution_count": null,
   "id": "3022dc0a",
   "metadata": {},
   "outputs": [],
   "source": []
  }
 ],
 "metadata": {
  "kernelspec": {
   "display_name": "Python 3 (ipykernel)",
   "language": "python",
   "name": "python3"
  },
  "language_info": {
   "codemirror_mode": {
    "name": "ipython",
    "version": 3
   },
   "file_extension": ".py",
   "mimetype": "text/x-python",
   "name": "python",
   "nbconvert_exporter": "python",
   "pygments_lexer": "ipython3",
   "version": "3.7.5"
  }
 },
 "nbformat": 4,
 "nbformat_minor": 5
}
