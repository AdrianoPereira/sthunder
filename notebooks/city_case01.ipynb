{
 "cells": [
  {
   "cell_type": "code",
   "execution_count": 1,
   "id": "735e88bd-77b8-474a-a331-954694fe0ab1",
   "metadata": {},
   "outputs": [],
   "source": [
    "import matplotlib.pyplot as plt\n",
    "from matplotlib.patches import Patch\n",
    "import numpy as np\n",
    "from dask import dataframe as dd\n",
    "from minisom import MiniSom\n",
    "from sklearn.preprocessing import MinMaxScaler"
   ]
  },
  {
   "cell_type": "code",
   "execution_count": 2,
   "id": "3236b4a2-0d34-4b1b-88f2-d09477e16b82",
   "metadata": {},
   "outputs": [
    {
     "data": {
      "text/html": [
       "<div>\n",
       "<style scoped>\n",
       "    .dataframe tbody tr th:only-of-type {\n",
       "        vertical-align: middle;\n",
       "    }\n",
       "\n",
       "    .dataframe tbody tr th {\n",
       "        vertical-align: top;\n",
       "    }\n",
       "\n",
       "    .dataframe thead th {\n",
       "        text-align: right;\n",
       "    }\n",
       "</style>\n",
       "<table border=\"1\" class=\"dataframe\">\n",
       "  <thead>\n",
       "    <tr style=\"text-align: right;\">\n",
       "      <th>city</th>\n",
       "      <th>datetime</th>\n",
       "      <th>Abel Figueiredo</th>\n",
       "      <th>Acaraú</th>\n",
       "      <th>Acará</th>\n",
       "      <th>Acopiara</th>\n",
       "      <th>Acrelândia</th>\n",
       "      <th>Acreúna</th>\n",
       "      <th>Adamantina</th>\n",
       "      <th>Adustina</th>\n",
       "      <th>Afonso Bezerra</th>\n",
       "      <th>...</th>\n",
       "      <th>Água Boa</th>\n",
       "      <th>Água Clara</th>\n",
       "      <th>Água Comprida</th>\n",
       "      <th>Água Doce</th>\n",
       "      <th>Água Doce do Norte</th>\n",
       "      <th>Água Fria de Goiás</th>\n",
       "      <th>Águas Belas</th>\n",
       "      <th>Águas Formosas</th>\n",
       "      <th>Érico Cardoso</th>\n",
       "      <th>Óbidos</th>\n",
       "    </tr>\n",
       "  </thead>\n",
       "  <tbody>\n",
       "    <tr>\n",
       "      <th>0</th>\n",
       "      <td>2020-01-01 00:00:00</td>\n",
       "      <td>0</td>\n",
       "      <td>0</td>\n",
       "      <td>0</td>\n",
       "      <td>0</td>\n",
       "      <td>0</td>\n",
       "      <td>0</td>\n",
       "      <td>0</td>\n",
       "      <td>0</td>\n",
       "      <td>0</td>\n",
       "      <td>...</td>\n",
       "      <td>4</td>\n",
       "      <td>0</td>\n",
       "      <td>0</td>\n",
       "      <td>0</td>\n",
       "      <td>0</td>\n",
       "      <td>0</td>\n",
       "      <td>0</td>\n",
       "      <td>0</td>\n",
       "      <td>0</td>\n",
       "      <td>1</td>\n",
       "    </tr>\n",
       "    <tr>\n",
       "      <th>1</th>\n",
       "      <td>2020-01-01 01:00:00</td>\n",
       "      <td>0</td>\n",
       "      <td>0</td>\n",
       "      <td>0</td>\n",
       "      <td>0</td>\n",
       "      <td>0</td>\n",
       "      <td>0</td>\n",
       "      <td>0</td>\n",
       "      <td>0</td>\n",
       "      <td>0</td>\n",
       "      <td>...</td>\n",
       "      <td>411</td>\n",
       "      <td>0</td>\n",
       "      <td>0</td>\n",
       "      <td>0</td>\n",
       "      <td>0</td>\n",
       "      <td>0</td>\n",
       "      <td>0</td>\n",
       "      <td>0</td>\n",
       "      <td>0</td>\n",
       "      <td>0</td>\n",
       "    </tr>\n",
       "    <tr>\n",
       "      <th>2</th>\n",
       "      <td>2020-01-01 02:00:00</td>\n",
       "      <td>0</td>\n",
       "      <td>0</td>\n",
       "      <td>0</td>\n",
       "      <td>0</td>\n",
       "      <td>0</td>\n",
       "      <td>0</td>\n",
       "      <td>0</td>\n",
       "      <td>0</td>\n",
       "      <td>0</td>\n",
       "      <td>...</td>\n",
       "      <td>432</td>\n",
       "      <td>0</td>\n",
       "      <td>3</td>\n",
       "      <td>0</td>\n",
       "      <td>0</td>\n",
       "      <td>0</td>\n",
       "      <td>0</td>\n",
       "      <td>0</td>\n",
       "      <td>0</td>\n",
       "      <td>0</td>\n",
       "    </tr>\n",
       "    <tr>\n",
       "      <th>3</th>\n",
       "      <td>2020-01-01 03:00:00</td>\n",
       "      <td>0</td>\n",
       "      <td>0</td>\n",
       "      <td>0</td>\n",
       "      <td>0</td>\n",
       "      <td>0</td>\n",
       "      <td>0</td>\n",
       "      <td>0</td>\n",
       "      <td>0</td>\n",
       "      <td>0</td>\n",
       "      <td>...</td>\n",
       "      <td>665</td>\n",
       "      <td>0</td>\n",
       "      <td>0</td>\n",
       "      <td>0</td>\n",
       "      <td>0</td>\n",
       "      <td>0</td>\n",
       "      <td>0</td>\n",
       "      <td>0</td>\n",
       "      <td>0</td>\n",
       "      <td>0</td>\n",
       "    </tr>\n",
       "    <tr>\n",
       "      <th>4</th>\n",
       "      <td>2020-01-01 04:00:00</td>\n",
       "      <td>0</td>\n",
       "      <td>0</td>\n",
       "      <td>0</td>\n",
       "      <td>3</td>\n",
       "      <td>0</td>\n",
       "      <td>0</td>\n",
       "      <td>0</td>\n",
       "      <td>0</td>\n",
       "      <td>0</td>\n",
       "      <td>...</td>\n",
       "      <td>238</td>\n",
       "      <td>0</td>\n",
       "      <td>0</td>\n",
       "      <td>0</td>\n",
       "      <td>0</td>\n",
       "      <td>0</td>\n",
       "      <td>0</td>\n",
       "      <td>0</td>\n",
       "      <td>0</td>\n",
       "      <td>0</td>\n",
       "    </tr>\n",
       "  </tbody>\n",
       "</table>\n",
       "<p>5 rows × 1440 columns</p>\n",
       "</div>"
      ],
      "text/plain": [
       "city             datetime  Abel Figueiredo  Acaraú  Acará  Acopiara  \\\n",
       "0     2020-01-01 00:00:00                0       0      0         0   \n",
       "1     2020-01-01 01:00:00                0       0      0         0   \n",
       "2     2020-01-01 02:00:00                0       0      0         0   \n",
       "3     2020-01-01 03:00:00                0       0      0         0   \n",
       "4     2020-01-01 04:00:00                0       0      0         3   \n",
       "\n",
       "city  Acrelândia  Acreúna  Adamantina  Adustina  Afonso Bezerra  ...  \\\n",
       "0              0        0           0         0               0  ...   \n",
       "1              0        0           0         0               0  ...   \n",
       "2              0        0           0         0               0  ...   \n",
       "3              0        0           0         0               0  ...   \n",
       "4              0        0           0         0               0  ...   \n",
       "\n",
       "city  Água Boa  Água Clara  Água Comprida  Água Doce  Água Doce do Norte  \\\n",
       "0            4           0              0          0                   0   \n",
       "1          411           0              0          0                   0   \n",
       "2          432           0              3          0                   0   \n",
       "3          665           0              0          0                   0   \n",
       "4          238           0              0          0                   0   \n",
       "\n",
       "city  Água Fria de Goiás  Águas Belas  Águas Formosas  Érico Cardoso  Óbidos  \n",
       "0                      0            0               0              0       1  \n",
       "1                      0            0               0              0       0  \n",
       "2                      0            0               0              0       0  \n",
       "3                      0            0               0              0       0  \n",
       "4                      0            0               0              0       0  \n",
       "\n",
       "[5 rows x 1440 columns]"
      ]
     },
     "execution_count": 2,
     "metadata": {},
     "output_type": "execute_result"
    }
   ],
   "source": [
    "df = dd.read_csv(\n",
    "    \"/glm/city_state.csv\"\n",
    ").groupby(\n",
    "    ['city', 'datetime']\n",
    ").aggregate(\n",
    "    {'total': 'sum'}\n",
    ").reset_index().compute().pivot(\n",
    "     columns='city', index='datetime', values='total'\n",
    ").reset_index()\n",
    "df.head()"
   ]
  },
  {
   "cell_type": "code",
   "execution_count": 3,
   "id": "1ce4378a-cf66-4d1a-b25d-35ca1191606e",
   "metadata": {},
   "outputs": [
    {
     "data": {
      "text/html": [
       "<div>\n",
       "<style scoped>\n",
       "    .dataframe tbody tr th:only-of-type {\n",
       "        vertical-align: middle;\n",
       "    }\n",
       "\n",
       "    .dataframe tbody tr th {\n",
       "        vertical-align: top;\n",
       "    }\n",
       "\n",
       "    .dataframe thead th {\n",
       "        text-align: right;\n",
       "    }\n",
       "</style>\n",
       "<table border=\"1\" class=\"dataframe\">\n",
       "  <thead>\n",
       "    <tr style=\"text-align: right;\">\n",
       "      <th>city</th>\n",
       "      <th>Abel Figueiredo</th>\n",
       "      <th>Acaraú</th>\n",
       "      <th>Acará</th>\n",
       "      <th>Acopiara</th>\n",
       "      <th>Acrelândia</th>\n",
       "      <th>Acreúna</th>\n",
       "      <th>Adamantina</th>\n",
       "      <th>Adustina</th>\n",
       "      <th>Afonso Bezerra</th>\n",
       "      <th>Afonso Cláudio</th>\n",
       "      <th>...</th>\n",
       "      <th>Água Boa</th>\n",
       "      <th>Água Clara</th>\n",
       "      <th>Água Comprida</th>\n",
       "      <th>Água Doce</th>\n",
       "      <th>Água Doce do Norte</th>\n",
       "      <th>Água Fria de Goiás</th>\n",
       "      <th>Águas Belas</th>\n",
       "      <th>Águas Formosas</th>\n",
       "      <th>Érico Cardoso</th>\n",
       "      <th>Óbidos</th>\n",
       "    </tr>\n",
       "    <tr>\n",
       "      <th>datetime</th>\n",
       "      <th></th>\n",
       "      <th></th>\n",
       "      <th></th>\n",
       "      <th></th>\n",
       "      <th></th>\n",
       "      <th></th>\n",
       "      <th></th>\n",
       "      <th></th>\n",
       "      <th></th>\n",
       "      <th></th>\n",
       "      <th></th>\n",
       "      <th></th>\n",
       "      <th></th>\n",
       "      <th></th>\n",
       "      <th></th>\n",
       "      <th></th>\n",
       "      <th></th>\n",
       "      <th></th>\n",
       "      <th></th>\n",
       "      <th></th>\n",
       "      <th></th>\n",
       "    </tr>\n",
       "  </thead>\n",
       "  <tbody>\n",
       "    <tr>\n",
       "      <th>2020-01-01 00:00:00</th>\n",
       "      <td>0</td>\n",
       "      <td>0</td>\n",
       "      <td>0</td>\n",
       "      <td>0</td>\n",
       "      <td>0</td>\n",
       "      <td>0</td>\n",
       "      <td>0</td>\n",
       "      <td>0</td>\n",
       "      <td>0</td>\n",
       "      <td>0</td>\n",
       "      <td>...</td>\n",
       "      <td>4</td>\n",
       "      <td>0</td>\n",
       "      <td>0</td>\n",
       "      <td>0</td>\n",
       "      <td>0</td>\n",
       "      <td>0</td>\n",
       "      <td>0</td>\n",
       "      <td>0</td>\n",
       "      <td>0</td>\n",
       "      <td>1</td>\n",
       "    </tr>\n",
       "    <tr>\n",
       "      <th>2020-01-01 01:00:00</th>\n",
       "      <td>0</td>\n",
       "      <td>0</td>\n",
       "      <td>0</td>\n",
       "      <td>0</td>\n",
       "      <td>0</td>\n",
       "      <td>0</td>\n",
       "      <td>0</td>\n",
       "      <td>0</td>\n",
       "      <td>0</td>\n",
       "      <td>0</td>\n",
       "      <td>...</td>\n",
       "      <td>411</td>\n",
       "      <td>0</td>\n",
       "      <td>0</td>\n",
       "      <td>0</td>\n",
       "      <td>0</td>\n",
       "      <td>0</td>\n",
       "      <td>0</td>\n",
       "      <td>0</td>\n",
       "      <td>0</td>\n",
       "      <td>0</td>\n",
       "    </tr>\n",
       "    <tr>\n",
       "      <th>2020-01-01 02:00:00</th>\n",
       "      <td>0</td>\n",
       "      <td>0</td>\n",
       "      <td>0</td>\n",
       "      <td>0</td>\n",
       "      <td>0</td>\n",
       "      <td>0</td>\n",
       "      <td>0</td>\n",
       "      <td>0</td>\n",
       "      <td>0</td>\n",
       "      <td>0</td>\n",
       "      <td>...</td>\n",
       "      <td>432</td>\n",
       "      <td>0</td>\n",
       "      <td>3</td>\n",
       "      <td>0</td>\n",
       "      <td>0</td>\n",
       "      <td>0</td>\n",
       "      <td>0</td>\n",
       "      <td>0</td>\n",
       "      <td>0</td>\n",
       "      <td>0</td>\n",
       "    </tr>\n",
       "    <tr>\n",
       "      <th>2020-01-01 03:00:00</th>\n",
       "      <td>0</td>\n",
       "      <td>0</td>\n",
       "      <td>0</td>\n",
       "      <td>0</td>\n",
       "      <td>0</td>\n",
       "      <td>0</td>\n",
       "      <td>0</td>\n",
       "      <td>0</td>\n",
       "      <td>0</td>\n",
       "      <td>0</td>\n",
       "      <td>...</td>\n",
       "      <td>665</td>\n",
       "      <td>0</td>\n",
       "      <td>0</td>\n",
       "      <td>0</td>\n",
       "      <td>0</td>\n",
       "      <td>0</td>\n",
       "      <td>0</td>\n",
       "      <td>0</td>\n",
       "      <td>0</td>\n",
       "      <td>0</td>\n",
       "    </tr>\n",
       "    <tr>\n",
       "      <th>2020-01-01 04:00:00</th>\n",
       "      <td>0</td>\n",
       "      <td>0</td>\n",
       "      <td>0</td>\n",
       "      <td>3</td>\n",
       "      <td>0</td>\n",
       "      <td>0</td>\n",
       "      <td>0</td>\n",
       "      <td>0</td>\n",
       "      <td>0</td>\n",
       "      <td>0</td>\n",
       "      <td>...</td>\n",
       "      <td>238</td>\n",
       "      <td>0</td>\n",
       "      <td>0</td>\n",
       "      <td>0</td>\n",
       "      <td>0</td>\n",
       "      <td>0</td>\n",
       "      <td>0</td>\n",
       "      <td>0</td>\n",
       "      <td>0</td>\n",
       "      <td>0</td>\n",
       "    </tr>\n",
       "  </tbody>\n",
       "</table>\n",
       "<p>5 rows × 1439 columns</p>\n",
       "</div>"
      ],
      "text/plain": [
       "city                 Abel Figueiredo  Acaraú  Acará  Acopiara  Acrelândia  \\\n",
       "datetime                                                                    \n",
       "2020-01-01 00:00:00                0       0      0         0           0   \n",
       "2020-01-01 01:00:00                0       0      0         0           0   \n",
       "2020-01-01 02:00:00                0       0      0         0           0   \n",
       "2020-01-01 03:00:00                0       0      0         0           0   \n",
       "2020-01-01 04:00:00                0       0      0         3           0   \n",
       "\n",
       "city                 Acreúna  Adamantina  Adustina  Afonso Bezerra  \\\n",
       "datetime                                                             \n",
       "2020-01-01 00:00:00        0           0         0               0   \n",
       "2020-01-01 01:00:00        0           0         0               0   \n",
       "2020-01-01 02:00:00        0           0         0               0   \n",
       "2020-01-01 03:00:00        0           0         0               0   \n",
       "2020-01-01 04:00:00        0           0         0               0   \n",
       "\n",
       "city                 Afonso Cláudio  ...  Água Boa  Água Clara  Água Comprida  \\\n",
       "datetime                             ...                                        \n",
       "2020-01-01 00:00:00               0  ...         4           0              0   \n",
       "2020-01-01 01:00:00               0  ...       411           0              0   \n",
       "2020-01-01 02:00:00               0  ...       432           0              3   \n",
       "2020-01-01 03:00:00               0  ...       665           0              0   \n",
       "2020-01-01 04:00:00               0  ...       238           0              0   \n",
       "\n",
       "city                 Água Doce  Água Doce do Norte  Água Fria de Goiás  \\\n",
       "datetime                                                                 \n",
       "2020-01-01 00:00:00          0                   0                   0   \n",
       "2020-01-01 01:00:00          0                   0                   0   \n",
       "2020-01-01 02:00:00          0                   0                   0   \n",
       "2020-01-01 03:00:00          0                   0                   0   \n",
       "2020-01-01 04:00:00          0                   0                   0   \n",
       "\n",
       "city                 Águas Belas  Águas Formosas  Érico Cardoso  Óbidos  \n",
       "datetime                                                                 \n",
       "2020-01-01 00:00:00            0               0              0       1  \n",
       "2020-01-01 01:00:00            0               0              0       0  \n",
       "2020-01-01 02:00:00            0               0              0       0  \n",
       "2020-01-01 03:00:00            0               0              0       0  \n",
       "2020-01-01 04:00:00            0               0              0       0  \n",
       "\n",
       "[5 rows x 1439 columns]"
      ]
     },
     "execution_count": 3,
     "metadata": {},
     "output_type": "execute_result"
    }
   ],
   "source": [
    "df['datetime'] = dd.to_datetime(df['datetime'])\n",
    "df = df.set_index('datetime')\n",
    "df.head()"
   ]
  },
  {
   "cell_type": "code",
   "execution_count": 4,
   "id": "87293ef3-2771-4a2c-bfe2-4e72242bec1a",
   "metadata": {},
   "outputs": [],
   "source": [
    "norm = MinMaxScaler(feature_range=(0, 1))\n",
    "\n",
    "data = norm.fit_transform(df.values.T)"
   ]
  },
  {
   "cell_type": "code",
   "execution_count": 5,
   "id": "0f642bdb-15a2-4be8-bf4d-3c76ec64178c",
   "metadata": {},
   "outputs": [
    {
     "data": {
      "text/plain": [
       "(1439, 8784)"
      ]
     },
     "execution_count": 5,
     "metadata": {},
     "output_type": "execute_result"
    }
   ],
   "source": [
    "data.shape"
   ]
  },
  {
   "cell_type": "code",
   "execution_count": null,
   "id": "9a867b45-d55a-40d7-9435-ad36397f5325",
   "metadata": {},
   "outputs": [],
   "source": [
    "nr, nc = 6, 6\n",
    "sigma = 3\n",
    "neigh_func = 'gaussian'\n",
    "topology = 'rectangular'\n",
    "\n",
    "som = MiniSom(\n",
    "    x=nr, y=nc, input_len=data.shape[1], sigma=sigma, \n",
    "    learning_rate=0.05, neighborhood_function=neigh_func,\n",
    "    topology=topology,\n",
    "    random_seed=42\n",
    ")\n",
    "\n",
    "# som.random_weights_init(data)\n",
    "som.pca_weights_init(data)\n",
    "som.train_random(data=data, num_iteration=500)"
   ]
  },
  {
   "cell_type": "code",
   "execution_count": null,
   "id": "577369c9-1eae-4c32-94a2-8e951ecd3839",
   "metadata": {},
   "outputs": [],
   "source": [
    "W = som.get_weights()\n",
    "q = som.activation_response(data)"
   ]
  },
  {
   "cell_type": "code",
   "execution_count": null,
   "id": "a0d02401-9c47-4cea-8646-66d6792c0666",
   "metadata": {},
   "outputs": [],
   "source": [
    "plt.pcolor(W[:,:,0].T, cmap='coolwarm')\n",
    "plt.xticks(np.arange(nr+1))\n",
    "plt.yticks(np.arange(nc+1))\n",
    "plt.tight_layout()"
   ]
  },
  {
   "cell_type": "code",
   "execution_count": 35,
   "id": "9734177f-46d3-47d9-b495-0d09fe31ed63",
   "metadata": {},
   "outputs": [
    {
     "name": "stderr",
     "output_type": "stream",
     "text": [
      "/home/adriano/sthunder/.venv/lib/python3.7/site-packages/ipykernel_launcher.py:8: UserWarning: marker is redundantly defined by the 'marker' keyword argument and the fmt string \"o\" (-> marker='o'). The keyword argument will take precedence.\n",
      "  \n"
     ]
    },
    {
     "data": {
      "text/plain": [
       "(0.0, 6.0)"
      ]
     },
     "execution_count": 35,
     "metadata": {},
     "output_type": "execute_result"
    },
    {
     "data": {
      "image/png": "[encoded data removed]",
      "text/plain": [
       "<Figure size 720x720 with 1 Axes>"
      ]
     },
     "metadata": {
      "needs_background": "light"
     },
     "output_type": "display_data"
    }
   ],
   "source": [
    "feature_names = ['f%d'%(i+1) for i in range(data.shape[1])]\n",
    "Z = np.zeros((nr, nc))\n",
    "plt.figure(figsize=(10, 10))\n",
    "for i in np.arange(som._weights.shape[0]):\n",
    "    for j in np.arange(som._weights.shape[1]):\n",
    "        feature = np.argmax(W[i, j , :])\n",
    "        plt.plot([j+.5], [i+.5], 'o', color='C'+str(feature),\n",
    "                 marker='o', markersize=33)\n",
    "\n",
    "# legend_elements = [Patch(facecolor='C'+str(i),\n",
    "#                          edgecolor='w',\n",
    "#                          label=f) for i, f in enumerate(feature_names)]\n",
    "\n",
    "# plt.legend(handles=legend_elements,\n",
    "#            loc='center left',\n",
    "#            bbox_to_anchor=(1, .95))\n",
    "        \n",
    "plt.xlim([0, nr])\n",
    "plt.ylim([0, nc])"
   ]
  },
  {
   "cell_type": "code",
   "execution_count": 36,
   "id": "f59b00e5-ce23-4162-9250-a9acfb2fe4e5",
   "metadata": {},
   "outputs": [
    {
     "data": {
      "image/png": "[encoded data removed]",
      "text/plain": [
       "<Figure size 1440x720 with 36 Axes>"
      ]
     },
     "metadata": {
      "needs_background": "light"
     },
     "output_type": "display_data"
    }
   ],
   "source": [
    "fig, ax = plt.subplots(W.shape[0], W.shape[1], figsize=(20, 10), sharex=True, sharey=True)\n",
    "\n",
    "for i in range(W.shape[0]):\n",
    "    for j in range(W.shape[1]):\n",
    "        ax[i][j].plot(W[i, j], color='gray')\n",
    "#         ax[i][j].set_xlim(0, 4)\n",
    "#         ax[i][j].set_xticklabels({v: i for i, v in enumerate(columns[:-1])}, rotation=90)\n",
    "        \n",
    "\n",
    "colors = {\"Iris-setosa\": \"red\", \"Iris-virginica\": \"green\", \"Iris-versicolor\": \"blue\"}\n",
    "\n",
    "temp = norm.inverse_transform(data)\n",
    "for i, v in enumerate(data):\n",
    "    winner = som.winner(v)\n",
    "    ax[winner[0]][winner[1]].plot(temp[i, :], color='k')\n",
    "    \n",
    "\n",
    "# laxe = fig.add_axes([0.27, -0.02, 0.5, 0.05])\n",
    "# for k, v in colors.items():\n",
    "#     laxe.plot([], c=v, label=k)\n",
    "# laxe.legend(loc='center', ncol=len(colors.keys()), fontsize=15)\n",
    "# laxe.axis('off')"
   ]
  },
  {
   "cell_type": "code",
   "execution_count": null,
   "id": "5491894c-7170-4bcd-8244-52ddc59991e9",
   "metadata": {},
   "outputs": [],
   "source": []
  },
  {
   "cell_type": "code",
   "execution_count": 123,
   "id": "dfea0662-914a-441f-9574-38e8357f8393",
   "metadata": {},
   "outputs": [
    {
     "data": {
      "text/plain": [
       "array([[  0.,   0.,   0., ..., 379., 369.,  33.],\n",
       "       [  0.,   0.,   0., ...,   0.,   0.,   0.],\n",
       "       [  0.,   0.,   0., ...,  47.,   7.,   0.],\n",
       "       ...,\n",
       "       [  0.,   0.,   0., ...,   0.,   0.,   0.],\n",
       "       [  0.,   0.,   0., ...,   0.,   0.,   0.],\n",
       "       [  1.,   0.,   0., ...,   0.,   0.,   0.]])"
      ]
     },
     "execution_count": 123,
     "metadata": {},
     "output_type": "execute_result"
    }
   ],
   "source": [
    "norm.inverse_transform(data)"
   ]
  },
  {
   "cell_type": "code",
   "execution_count": 120,
   "id": "241bcfff-4bf7-44ad-ada9-07749d3a1cb0",
   "metadata": {},
   "outputs": [
    {
     "data": {
      "text/plain": [
       "(8784,)"
      ]
     },
     "execution_count": 120,
     "metadata": {},
     "output_type": "execute_result"
    }
   ],
   "source": [
    "v.shape"
   ]
  },
  {
   "cell_type": "code",
   "execution_count": 117,
   "id": "b878cb15-0dbc-499e-b06b-5a58952ef20d",
   "metadata": {},
   "outputs": [
    {
     "data": {
      "text/plain": [
       "(1439, 8784)"
      ]
     },
     "execution_count": 117,
     "metadata": {},
     "output_type": "execute_result"
    }
   ],
   "source": [
    "data.shape"
   ]
  },
  {
   "cell_type": "code",
   "execution_count": 118,
   "id": "d7bcdf96-cf2f-47ac-8473-4e905308689f",
   "metadata": {},
   "outputs": [
    {
     "data": {
      "text/plain": [
       "(2, 1)"
      ]
     },
     "execution_count": 118,
     "metadata": {},
     "output_type": "execute_result"
    }
   ],
   "source": [
    "som.winner(data[0, :])"
   ]
  }
 ],
 "metadata": {
  "kernelspec": {
   "display_name": "Python 3 (ipykernel)",
   "language": "python",
   "name": "python3"
  },
  "language_info": {
   "codemirror_mode": {
    "name": "ipython",
    "version": 3
   },
   "file_extension": ".py",
   "mimetype": "text/x-python",
   "name": "python",
   "nbconvert_exporter": "python",
   "pygments_lexer": "ipython3",
   "version": "3.7.5"
  }
 },
 "nbformat": 4,
 "nbformat_minor": 5
}
